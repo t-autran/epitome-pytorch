{
 "cells": [
  {
   "cell_type": "code",
   "execution_count": 2,
   "metadata": {},
   "outputs": [
    {
     "name": "stdout",
     "output_type": "stream",
     "text": [
      "The autoreload extension is already loaded. To reload it, use:\n",
      "  %reload_ext autoreload\n"
     ]
    }
   ],
   "source": [
    "%matplotlib inline\n",
    "%load_ext autoreload\n",
    "%autoreload 2\n",
    "import sys,os,time\n",
    "import numpy as np\n",
    "import rasterio\n",
    "from rasterio.windows import Window\n",
    "import matplotlib.pyplot as plt\n",
    "import skimage.transform\n",
    "import skimage.measure\n",
    "from sklearn.feature_extraction.image import extract_patches_2d\n",
    "from skimage.measure import block_reduce\n",
    "import scipy\n",
    "from scipy.io import savemat\n",
    "from scipy.spatial.distance import euclidean\n",
    "from scipy.signal import fftconvolve,correlate\n",
    "import pandas as pd\n",
    "import pickle\n",
    "import cv2\n",
    "\n",
    "import torch\n",
    "import torch.nn as nn\n",
    "import torch.nn.functional as F\n",
    "import torchvision\n",
    "import csv\n",
    "\n",
    "import cProfile"
   ]
  },
  {
   "cell_type": "code",
   "execution_count": 3,
   "metadata": {},
   "outputs": [],
   "source": [
    "p = pd.read_csv(\"big_lc_paths.csv\", header=None)\n",
    "paths = p[0].tolist()\n",
    "ds = 2\n",
    "save_path = \"downsampled_data_naip\"+str(ds)+\"/\"\n",
    "if not os.path.exists(save_path):\n",
    "    os.makedirs(save_path)\n",
    "device0 = torch.device(\"cuda:0\" if torch.cuda.is_available() else \"cpu\")\n",
    "device1 = torch.device(\"cuda:1\" if torch.cuda.is_available() else \"cpu\")\n",
    "\n",
    "def fn(i):\n",
    "    return paths[i].replace('/','-')[:-7]\n",
    "\n",
    "def disp(pic):\n",
    "    pic = np.rollaxis(np.squeeze(pic),0,3)\n",
    "    plt.figure(figsize=(6,6))\n",
    "    plt.imshow(pic)\n",
    "    plt.axis('off')\n",
    "    plt.show()\n",
    "    plt.close()\n",
    "\n",
    "def ds_data(num):    \n",
    "    space = 0.\n",
    "    s = float(time.time())\n",
    "    for i in range(num):\n",
    "        if (i%5==4):\n",
    "            print(\"Tile %i of %i. Time: %.2f s. Space: %.2f MB\" % (i+1,num,float(time.time())-s,space/1024**2))\n",
    "        naip_tile = rasterio.open(\"/mnt/blobfuse/esri-naip/\"+fn(i).replace('-','/')+\".mrf\",'r')\n",
    "        naip = naip_tile.read()[:3,:,:].astype(np.float)/255\n",
    "        naip_tile.close()\n",
    "        naip = block_reduce(naip,(1,ds,ds),np.mean)\n",
    "        path_im = save_path + fn(i)+'.npz'\n",
    "        np.savez_compressed(path_im,a=naip)\n",
    "        space += os.stat(path_im).st_size\n",
    "    fin_time = float(time.time())-s\n",
    "    fin_size = space/1024**2\n",
    "    print(\"Finished! Time: %.2f s. Space: %.2f MB\" % (fin_time,fin_size))\n",
    "    print(\"Averaged %.3f seconds, %.0f KB per tile\" % (fin_time/num,1024*fin_size/num))\n",
    "    \n",
    "def data_conglomerate(num):\n",
    "    maxx_ds = 7800//ds\n",
    "    maxy_ds = 6400//ds\n",
    "    s = float(time.time())\n",
    "    total = np.zeros((num,3,maxx_ds,maxy_ds),dtype=np.float)\n",
    "    for i in range(num):\n",
    "        if (i%5==4):\n",
    "            print(\"Tile %i of %i. Time: %.2f s\" % (i+1,num,float(time.time())-s))\n",
    "        naip_tile = rasterio.open(\"/mnt/blobfuse/esri-naip/\"+fn(i).replace('-','/')+\".mrf\",'r')\n",
    "        naip = naip_tile.read()[:3,:,:].astype(np.float)/255\n",
    "        naip_tile.close()\n",
    "        reduced = skimage.measure.block_reduce(naip,(1,ds,ds),np.mean)\n",
    "        tile = np.pad(reduced,((0,0),(0,maxx_ds-reduced.shape[1]),(0,maxy_ds-reduced.shape[2])),mode='constant')\n",
    "        total[i] = tile\n",
    "    path_im = save_path + 'total.npz'\n",
    "    np.savez_compressed(path_im,a=total)\n",
    "    print(total.shape)\n",
    "    print(\"Total space taken: %f MB\" % (os.stat(path_im).st_size/1024**2))"
   ]
  },
  {
   "cell_type": "code",
   "execution_count": 4,
   "metadata": {
    "scrolled": true
   },
   "outputs": [],
   "source": [
    "#ds_data(10)"
   ]
  },
  {
   "cell_type": "code",
   "execution_count": 5,
   "metadata": {
    "scrolled": true
   },
   "outputs": [
    {
     "name": "stdout",
     "output_type": "stream",
     "text": [
      "CPU times: user 2 µs, sys: 0 ns, total: 2 µs\n",
      "Wall time: 5.01 µs\n"
     ]
    }
   ],
   "source": [
    "%%time\n",
    "#data_conglomerate(10)"
   ]
  },
  {
   "cell_type": "code",
   "execution_count": 4,
   "metadata": {},
   "outputs": [
    {
     "name": "stdout",
     "output_type": "stream",
     "text": [
      "(10, 3, 3900, 3200)\n",
      "CPU times: user 13 s, sys: 1.6 s, total: 14.6 s\n",
      "Wall time: 42.6 s\n"
     ]
    }
   ],
   "source": [
    "%%time\n",
    "all_tiles = np.load(save_path+'total.npz')['a']\n",
    "print(all_tiles.shape)\n",
    "tile_torch = torch.from_numpy(all_tiles).float().to(device0)"
   ]
  },
  {
   "cell_type": "code",
   "execution_count": 5,
   "metadata": {},
   "outputs": [],
   "source": [
    "def cum_sum(arr, s):\n",
    "    cumsum = np.cumsum(np.cumsum(arr,axis=2),axis=3)\n",
    "    cumsum = np.pad(cumsum,((0,0),(0,0),(1,0),(1,0)),'constant')\n",
    "    tot = cumsum[:,:,:-s,:-s]-cumsum[:,:,s:,:-s]-cumsum[:,:,:-s,s:]+cumsum[:,:,s:,s:]\n",
    "    return tot\n",
    "\n",
    "def conv_lookup(searched_tiles,query,device): \n",
    "    query_squared = torch.Tensor([np.sum(query**2)]).float().to(device)\n",
    "    conv = F.conv2d(tile_torch[searched_tiles,:,:,:],torch.from_numpy(query).float().to(device))\n",
    "    torch.cuda.empty_cache()\n",
    "    conv = torch.transpose(conv,0,1)\n",
    "    conv = torch.add(tiles_squared[searched_tiles,:,:],-2,conv)\n",
    "    #torch.cuda.empty_cache()\n",
    "    conv = torch.add(conv,query_squared)\n",
    "    #torch.cuda.empty_cache()\n",
    "    #conv = tiles_squared[searched_tiles,:,:]-2*conv+query_squared\n",
    "    return conv\n",
    "\n",
    "lc_path = 'downsampled_data'+str(ds)+'/'\n",
    "def get_labels(t,x,y,size):\n",
    "    tile = np.load(lc_path+fn(t)+'.npz')['a']\n",
    "    return tile[x:x+size,y:y+size]\n",
    "\n",
    "def get_labels_loaded(t,x,y,size):\n",
    "    try:\n",
    "        labels_matrix\n",
    "    except NameError:\n",
    "        print(\"labels_matrix not initialized!\")\n",
    "    else:\n",
    "        return labels_matrix[t][x:x+size,y:y+size]\n",
    "\n",
    "def make_labels(num):\n",
    "    labels_dict = {}\n",
    "    for i in range(num):\n",
    "        labels_dict[i] = np.load(lc_path+fn(i)+'.npz')['a']\n",
    "    return labels_dict\n",
    "\n",
    "def get_query(t,x,y,size):\n",
    "    try:\n",
    "        all_tiles\n",
    "    except NameError:\n",
    "        print(\"all_tiles not initialized!\")\n",
    "    else:\n",
    "        return np.expand_dims(all_tiles[t,:,x:x+size,y:y+size],axis=0)\n",
    "    \n",
    "palette = np.array([[0,0,0],[0,153,51],[0,102,255],[153,102,51],[255,153,0],[255,255,0],[204,102,153]])\n",
    "def disp_label(pic):\n",
    "    plt.figure(figsize=(6,6))\n",
    "    plt.imshow(palette[pic])\n",
    "    plt.axis('off')\n",
    "    plt.show()\n",
    "    plt.close()\n",
    "\n",
    "def get_nns(tiles,list_tiles,nns):\n",
    "    coords = []\n",
    "    tiles = tiles.cpu().numpy()\n",
    "    ind = np.argpartition(tiles,nns,axis=None)[:nns]\n",
    "    for i in range(len(ind)):\n",
    "        t,z1,z2 = np.unravel_index(ind[i],(tiles.shape))\n",
    "        dist = tiles[t,z1,z2]\n",
    "        t = list_tiles[t]\n",
    "        coords.append((t,z1,z2,dist))\n",
    "    return coords\n",
    "\n",
    "def get_subpatches(pic):\n",
    "    pic_size = pic.shape[3]\n",
    "    to_return = np.zeros((1,3,size,size))\n",
    "    for i in range(pic_size-size+1):\n",
    "        for j in range(pic_size-size+1):\n",
    "            temp = pic[:,:,i:i+size,j:j+size]\n",
    "            to_return = np.concatenate((to_return,temp),axis=0)\n",
    "    return to_return[1:,:,:,:]"
   ]
  },
  {
   "cell_type": "code",
   "execution_count": 6,
   "metadata": {},
   "outputs": [
    {
     "name": "stdout",
     "output_type": "stream",
     "text": [
      "CPU times: user 418 ms, sys: 23 ms, total: 441 ms\n",
      "Wall time: 1.59 s\n"
     ]
    }
   ],
   "source": [
    "%%time\n",
    "labels_matrix = make_labels(10)"
   ]
  },
  {
   "cell_type": "code",
   "execution_count": 9,
   "metadata": {},
   "outputs": [
    {
     "name": "stdout",
     "output_type": "stream",
     "text": [
      "torch.Size([10, 3897, 3197])\n",
      "CPU times: user 9.77 s, sys: 5.04 s, total: 14.8 s\n",
      "Wall time: 14.8 s\n"
     ]
    }
   ],
   "source": [
    "%%time\n",
    "size = 4\n",
    "tiles_squared = torch.from_numpy(np.sum(cum_sum(all_tiles**2,size),axis=1)).float().to(device1)\n",
    "print(tiles_squared.shape)"
   ]
  },
  {
   "cell_type": "code",
   "execution_count": 10,
   "metadata": {},
   "outputs": [
    {
     "data": {
      "image/png": "[encoded data removed]",
      "text/plain": [
       "<Figure size 432x432 with 1 Axes>"
      ]
     },
     "metadata": {},
     "output_type": "display_data"
    },
    {
     "data": {
      "image/png": "[encoded data removed]",
      "text/plain": [
       "<Figure size 432x432 with 1 Axes>"
      ]
     },
     "metadata": {},
     "output_type": "display_data"
    },
    {
     "name": "stdout",
     "output_type": "stream",
     "text": [
      "(1, 3, 32, 32)\n",
      "(841, 3, 4, 4)\n"
     ]
    }
   ],
   "source": [
    "t,x,y,bigsize = 0, 2100, 2100, 32\n",
    "query_tile = get_query(t,x,y,bigsize)\n",
    "disp(query_tile)\n",
    "ground_truth = get_labels_loaded(t,x,y,bigsize)\n",
    "disp_label(ground_truth)\n",
    "print(query_tile.shape)\n",
    "subpatches = get_subpatches(query_tile)\n",
    "print(subpatches.shape)\n",
    "final_labels = np.zeros((bigsize,bigsize,7),dtype=int)"
   ]
  },
  {
   "cell_type": "code",
   "execution_count": 11,
   "metadata": {
    "scrolled": true
   },
   "outputs": [],
   "source": [
    "def reconstruct(subpatches):\n",
    "    max_load = 6\n",
    "    num_nns = 5\n",
    "    searched_tiles = np.arange(9)+1#np.arange(10)#\n",
    "    s=0\n",
    "    all_nns = []\n",
    "    while s*max_load < subpatches.shape[0]:\n",
    "        time0 = float(time.time())\n",
    "        to_conv = subpatches[s*max_load:(s+1)*max_load,:,:,:]\n",
    "        conv0 = conv_lookup(searched_tiles,to_conv,device0)\n",
    "        torch.cuda.empty_cache()\n",
    "        time1 = float(time.time())\n",
    "        print('Convolution %i in %.3f seconds' % (s+1,time1-time0))\n",
    "        for curr_subpatch in range(conv0.shape[0]):\n",
    "            nns = get_nns(conv0[curr_subpatch],searched_tiles,num_nns)\n",
    "            all_nns.append(nns)\n",
    "            #torch.cuda.empty_cache()\n",
    "            temp_bins = np.zeros((size,size,1),dtype=int)\n",
    "            for j in nns:\n",
    "                labels = get_labels_loaded(j[0],j[1],j[2],size)\n",
    "                if labels.shape==(size,size):\n",
    "                    temp_count = np.expand_dims(labels,axis=2)\n",
    "                    temp_bins = np.concatenate((temp_bins,temp_count),axis=2)\n",
    "            temp_bins = temp_bins[:,:,1:]\n",
    "            temp_counted = np.zeros((size,size,7),dtype=int)\n",
    "            for i in range(size):\n",
    "                for j in range(size):\n",
    "                    temp_counted[i,j] = np.bincount(temp_bins[i,j],minlength=7)\n",
    "            idx0,idx1 = np.unravel_index(curr_subpatch+s*max_load,(bigsize-size+1,bigsize-size+1))\n",
    "            #print(idx0,idx1)\n",
    "            final_labels[idx0:idx0+size,idx1:idx1+size] += temp_counted\n",
    "        print('%i pixels sorted in %.3f seconds' % (conv0.shape[0],float(time.time()-time1)))\n",
    "        s += 1\n",
    "    return final_labels, all_nns"
   ]
  },
  {
   "cell_type": "code",
   "execution_count": 12,
   "metadata": {
    "scrolled": true
   },
   "outputs": [
    {
     "name": "stdout",
     "output_type": "stream",
     "text": [
      "Convolution 1 in 1.377 seconds\n",
      "6 pixels sorted in 5.678 seconds\n",
      "Convolution 2 in 1.471 seconds\n",
      "6 pixels sorted in 6.357 seconds\n",
      "Convolution 3 in 1.261 seconds\n",
      "6 pixels sorted in 6.111 seconds\n",
      "Convolution 4 in 1.505 seconds\n",
      "6 pixels sorted in 5.530 seconds\n",
      "Convolution 5 in 1.375 seconds\n",
      "6 pixels sorted in 6.240 seconds\n",
      "Convolution 6 in 1.475 seconds\n",
      "6 pixels sorted in 5.786 seconds\n",
      "Convolution 7 in 1.254 seconds\n",
      "6 pixels sorted in 5.676 seconds\n",
      "Convolution 8 in 1.384 seconds\n",
      "6 pixels sorted in 6.257 seconds\n",
      "Convolution 9 in 1.363 seconds\n",
      "6 pixels sorted in 6.029 seconds\n",
      "Convolution 10 in 1.108 seconds\n",
      "6 pixels sorted in 5.334 seconds\n",
      "Convolution 11 in 1.306 seconds\n",
      "6 pixels sorted in 5.825 seconds\n",
      "Convolution 12 in 1.525 seconds\n",
      "6 pixels sorted in 5.782 seconds\n",
      "Convolution 13 in 1.247 seconds\n",
      "6 pixels sorted in 6.463 seconds\n",
      "Convolution 14 in 1.421 seconds\n",
      "6 pixels sorted in 6.396 seconds\n",
      "Convolution 15 in 1.322 seconds\n",
      "6 pixels sorted in 5.658 seconds\n",
      "Convolution 16 in 1.290 seconds\n",
      "6 pixels sorted in 5.501 seconds\n",
      "Convolution 17 in 1.348 seconds\n",
      "6 pixels sorted in 6.629 seconds\n",
      "Convolution 18 in 1.145 seconds\n",
      "6 pixels sorted in 5.450 seconds\n",
      "Convolution 19 in 1.407 seconds\n",
      "6 pixels sorted in 6.498 seconds\n",
      "Convolution 20 in 1.253 seconds\n",
      "6 pixels sorted in 6.224 seconds\n",
      "Convolution 21 in 1.445 seconds\n",
      "6 pixels sorted in 6.423 seconds\n",
      "Convolution 22 in 1.397 seconds\n",
      "6 pixels sorted in 6.044 seconds\n",
      "Convolution 23 in 1.127 seconds\n",
      "6 pixels sorted in 5.663 seconds\n",
      "Convolution 24 in 1.362 seconds\n",
      "6 pixels sorted in 6.118 seconds\n",
      "Convolution 25 in 1.523 seconds\n",
      "6 pixels sorted in 6.633 seconds\n",
      "Convolution 26 in 1.128 seconds\n",
      "6 pixels sorted in 6.340 seconds\n",
      "Convolution 27 in 1.509 seconds\n",
      "6 pixels sorted in 6.705 seconds\n",
      "Convolution 28 in 1.136 seconds\n",
      "6 pixels sorted in 6.274 seconds\n",
      "Convolution 29 in 1.300 seconds\n",
      "6 pixels sorted in 6.295 seconds\n",
      "Convolution 30 in 1.354 seconds\n",
      "6 pixels sorted in 7.490 seconds\n",
      "Convolution 31 in 1.083 seconds\n",
      "6 pixels sorted in 6.577 seconds\n",
      "Convolution 32 in 1.221 seconds\n",
      "6 pixels sorted in 5.926 seconds\n",
      "Convolution 33 in 1.482 seconds\n",
      "6 pixels sorted in 5.891 seconds\n",
      "Convolution 34 in 1.333 seconds\n",
      "6 pixels sorted in 6.558 seconds\n",
      "Convolution 35 in 1.214 seconds\n",
      "6 pixels sorted in 6.808 seconds\n",
      "Convolution 36 in 1.108 seconds\n",
      "6 pixels sorted in 6.075 seconds\n",
      "Convolution 37 in 1.544 seconds\n",
      "6 pixels sorted in 5.915 seconds\n",
      "Convolution 38 in 1.158 seconds\n",
      "6 pixels sorted in 6.691 seconds\n",
      "Convolution 39 in 1.223 seconds\n",
      "6 pixels sorted in 6.375 seconds\n",
      "Convolution 40 in 1.244 seconds\n",
      "6 pixels sorted in 5.833 seconds\n",
      "Convolution 41 in 1.218 seconds\n",
      "6 pixels sorted in 6.627 seconds\n",
      "Convolution 42 in 1.140 seconds\n",
      "6 pixels sorted in 5.903 seconds\n",
      "Convolution 43 in 1.124 seconds\n",
      "6 pixels sorted in 6.126 seconds\n",
      "Convolution 44 in 1.539 seconds\n",
      "6 pixels sorted in 6.447 seconds\n",
      "Convolution 45 in 1.353 seconds\n",
      "6 pixels sorted in 6.144 seconds\n",
      "Convolution 46 in 1.581 seconds\n",
      "6 pixels sorted in 7.013 seconds\n",
      "Convolution 47 in 1.403 seconds\n",
      "6 pixels sorted in 7.080 seconds\n",
      "Convolution 48 in 1.428 seconds\n",
      "6 pixels sorted in 6.465 seconds\n",
      "Convolution 49 in 1.350 seconds\n",
      "6 pixels sorted in 6.382 seconds\n",
      "Convolution 50 in 1.240 seconds\n",
      "6 pixels sorted in 6.046 seconds\n",
      "Convolution 51 in 1.112 seconds\n",
      "6 pixels sorted in 7.048 seconds\n",
      "Convolution 52 in 1.417 seconds\n",
      "6 pixels sorted in 5.912 seconds\n",
      "Convolution 53 in 1.132 seconds\n",
      "6 pixels sorted in 6.710 seconds\n",
      "Convolution 54 in 1.142 seconds\n",
      "6 pixels sorted in 6.265 seconds\n",
      "Convolution 55 in 1.125 seconds\n",
      "6 pixels sorted in 6.049 seconds\n",
      "Convolution 56 in 1.125 seconds\n",
      "6 pixels sorted in 6.302 seconds\n",
      "Convolution 57 in 1.129 seconds\n",
      "6 pixels sorted in 6.126 seconds\n",
      "Convolution 58 in 1.358 seconds\n",
      "6 pixels sorted in 5.846 seconds\n",
      "Convolution 59 in 1.233 seconds\n",
      "6 pixels sorted in 6.075 seconds\n",
      "Convolution 60 in 1.108 seconds\n",
      "6 pixels sorted in 5.972 seconds\n",
      "Convolution 61 in 1.104 seconds\n",
      "6 pixels sorted in 6.095 seconds\n",
      "Convolution 62 in 1.506 seconds\n",
      "6 pixels sorted in 6.626 seconds\n",
      "Convolution 63 in 1.102 seconds\n",
      "6 pixels sorted in 6.613 seconds\n",
      "Convolution 64 in 1.167 seconds\n",
      "6 pixels sorted in 6.458 seconds\n",
      "Convolution 65 in 1.401 seconds\n",
      "6 pixels sorted in 5.950 seconds\n",
      "Convolution 66 in 1.106 seconds\n",
      "6 pixels sorted in 6.162 seconds\n",
      "Convolution 67 in 1.453 seconds\n",
      "6 pixels sorted in 6.526 seconds\n",
      "Convolution 68 in 1.246 seconds\n",
      "6 pixels sorted in 6.360 seconds\n",
      "Convolution 69 in 1.253 seconds\n",
      "6 pixels sorted in 6.235 seconds\n",
      "Convolution 70 in 1.348 seconds\n",
      "6 pixels sorted in 6.036 seconds\n",
      "Convolution 71 in 1.448 seconds\n",
      "6 pixels sorted in 6.093 seconds\n",
      "Convolution 72 in 1.116 seconds\n",
      "6 pixels sorted in 6.931 seconds\n",
      "Convolution 73 in 1.459 seconds\n",
      "6 pixels sorted in 5.799 seconds\n",
      "Convolution 74 in 1.194 seconds\n",
      "6 pixels sorted in 6.480 seconds\n",
      "Convolution 75 in 1.297 seconds\n",
      "6 pixels sorted in 5.699 seconds\n",
      "Convolution 76 in 1.293 seconds\n",
      "6 pixels sorted in 5.478 seconds\n",
      "Convolution 77 in 1.317 seconds\n",
      "6 pixels sorted in 6.223 seconds\n",
      "Convolution 78 in 1.569 seconds\n",
      "6 pixels sorted in 6.439 seconds\n",
      "Convolution 79 in 1.382 seconds\n",
      "6 pixels sorted in 7.419 seconds\n",
      "Convolution 80 in 1.137 seconds\n",
      "6 pixels sorted in 5.370 seconds\n",
      "Convolution 81 in 1.489 seconds\n",
      "6 pixels sorted in 5.461 seconds\n",
      "Convolution 82 in 1.406 seconds\n",
      "6 pixels sorted in 5.599 seconds\n",
      "Convolution 83 in 1.240 seconds\n",
      "6 pixels sorted in 5.611 seconds\n",
      "Convolution 84 in 1.263 seconds\n",
      "6 pixels sorted in 6.104 seconds\n",
      "Convolution 85 in 1.447 seconds\n",
      "6 pixels sorted in 6.555 seconds\n",
      "Convolution 86 in 1.391 seconds\n",
      "6 pixels sorted in 5.669 seconds\n",
      "Convolution 87 in 1.270 seconds\n",
      "6 pixels sorted in 6.441 seconds\n",
      "Convolution 88 in 1.264 seconds\n",
      "6 pixels sorted in 6.015 seconds\n",
      "Convolution 89 in 1.116 seconds\n",
      "6 pixels sorted in 6.214 seconds\n",
      "Convolution 90 in 1.406 seconds\n",
      "6 pixels sorted in 6.562 seconds\n",
      "Convolution 91 in 1.280 seconds\n",
      "6 pixels sorted in 6.195 seconds\n",
      "Convolution 92 in 1.599 seconds\n",
      "6 pixels sorted in 6.148 seconds\n",
      "Convolution 93 in 1.454 seconds\n",
      "6 pixels sorted in 7.158 seconds\n",
      "Convolution 94 in 1.341 seconds\n",
      "6 pixels sorted in 6.526 seconds\n",
      "Convolution 95 in 1.279 seconds\n",
      "6 pixels sorted in 6.374 seconds\n",
      "Convolution 96 in 1.339 seconds\n",
      "6 pixels sorted in 6.558 seconds\n",
      "Convolution 97 in 1.177 seconds\n",
      "6 pixels sorted in 6.252 seconds\n",
      "Convolution 98 in 1.352 seconds\n",
      "6 pixels sorted in 6.362 seconds\n",
      "Convolution 99 in 1.290 seconds\n",
      "6 pixels sorted in 6.749 seconds\n",
      "Convolution 100 in 1.080 seconds\n",
      "6 pixels sorted in 5.583 seconds\n",
      "Convolution 101 in 1.349 seconds\n",
      "6 pixels sorted in 6.376 seconds\n",
      "Convolution 102 in 1.272 seconds\n",
      "6 pixels sorted in 6.091 seconds\n",
      "Convolution 103 in 1.361 seconds\n",
      "6 pixels sorted in 6.199 seconds\n",
      "Convolution 104 in 1.132 seconds\n",
      "6 pixels sorted in 6.305 seconds\n",
      "Convolution 105 in 1.479 seconds\n",
      "6 pixels sorted in 5.310 seconds\n",
      "Convolution 106 in 1.292 seconds\n",
      "6 pixels sorted in 5.308 seconds\n",
      "Convolution 107 in 1.258 seconds\n",
      "6 pixels sorted in 6.149 seconds\n",
      "Convolution 108 in 1.454 seconds\n",
      "6 pixels sorted in 7.490 seconds\n",
      "Convolution 109 in 1.146 seconds\n",
      "6 pixels sorted in 6.172 seconds\n",
      "Convolution 110 in 1.489 seconds\n",
      "6 pixels sorted in 5.811 seconds\n",
      "Convolution 111 in 1.267 seconds\n",
      "6 pixels sorted in 5.460 seconds\n",
      "Convolution 112 in 1.425 seconds\n",
      "6 pixels sorted in 5.952 seconds\n",
      "Convolution 113 in 1.136 seconds\n",
      "6 pixels sorted in 7.421 seconds\n",
      "Convolution 114 in 1.135 seconds\n",
      "6 pixels sorted in 5.641 seconds\n",
      "Convolution 115 in 1.360 seconds\n",
      "6 pixels sorted in 5.359 seconds\n",
      "Convolution 116 in 1.476 seconds\n",
      "6 pixels sorted in 6.341 seconds\n",
      "Convolution 117 in 1.363 seconds\n",
      "6 pixels sorted in 5.848 seconds\n",
      "Convolution 118 in 1.348 seconds\n",
      "6 pixels sorted in 6.333 seconds\n",
      "Convolution 119 in 1.297 seconds\n",
      "6 pixels sorted in 6.625 seconds\n",
      "Convolution 120 in 1.156 seconds\n",
      "6 pixels sorted in 6.420 seconds\n",
      "Convolution 121 in 1.369 seconds\n",
      "6 pixels sorted in 6.263 seconds\n",
      "Convolution 122 in 1.340 seconds\n",
      "6 pixels sorted in 5.996 seconds\n",
      "Convolution 123 in 1.117 seconds\n",
      "6 pixels sorted in 6.472 seconds\n",
      "Convolution 124 in 1.352 seconds\n",
      "6 pixels sorted in 5.514 seconds\n",
      "Convolution 125 in 1.382 seconds\n",
      "6 pixels sorted in 6.606 seconds\n",
      "Convolution 126 in 1.112 seconds\n",
      "6 pixels sorted in 6.431 seconds\n"
     ]
    },
    {
     "name": "stdout",
     "output_type": "stream",
     "text": [
      "Convolution 127 in 1.263 seconds\n",
      "6 pixels sorted in 6.482 seconds\n",
      "Convolution 128 in 1.318 seconds\n",
      "6 pixels sorted in 5.994 seconds\n",
      "Convolution 129 in 1.079 seconds\n",
      "6 pixels sorted in 5.795 seconds\n",
      "Convolution 130 in 1.310 seconds\n",
      "6 pixels sorted in 6.360 seconds\n",
      "Convolution 131 in 1.467 seconds\n",
      "6 pixels sorted in 6.195 seconds\n",
      "Convolution 132 in 1.493 seconds\n",
      "6 pixels sorted in 6.482 seconds\n",
      "Convolution 133 in 1.348 seconds\n",
      "6 pixels sorted in 5.826 seconds\n",
      "Convolution 134 in 1.220 seconds\n",
      "6 pixels sorted in 6.002 seconds\n",
      "Convolution 135 in 1.077 seconds\n",
      "6 pixels sorted in 5.860 seconds\n",
      "Convolution 136 in 1.118 seconds\n",
      "6 pixels sorted in 5.930 seconds\n",
      "Convolution 137 in 1.160 seconds\n",
      "6 pixels sorted in 6.136 seconds\n",
      "Convolution 138 in 1.230 seconds\n",
      "6 pixels sorted in 5.973 seconds\n",
      "Convolution 139 in 1.116 seconds\n",
      "6 pixels sorted in 6.149 seconds\n",
      "Convolution 140 in 1.127 seconds\n",
      "6 pixels sorted in 5.843 seconds\n",
      "Convolution 141 in 0.576 seconds\n",
      "1 pixels sorted in 1.098 seconds\n",
      "         69319 function calls in 1049.884 seconds\n",
      "\n",
      "   Ordered by: standard name\n",
      "\n",
      "   ncalls  tottime  percall  cumtime  percall filename:lineno(function)\n",
      "        1    2.822    2.822 1049.884 1049.884 <ipython-input-11-4884ad913fbe>:1(reconstruct)\n",
      "     4205    0.017    0.000    0.017    0.000 <ipython-input-7-9aeea7c30ab8>:24(get_labels_loaded)\n",
      "      841    0.040    0.000  864.817    1.028 <ipython-input-7-9aeea7c30ab8>:54(get_nns)\n",
      "      141   25.213    0.179  123.652    0.877 <ipython-input-7-9aeea7c30ab8>:7(conv_lookup)\n",
      "        1    0.000    0.000 1049.884 1049.884 <string>:1(<module>)\n",
      "      282    0.051    0.000  124.209    0.440 __init__.py:354(empty_cache)\n",
      "      141    0.001    0.000    0.004    0.000 fromnumeric.py:1821(sum)\n",
      "      841    0.006    0.000  736.472    0.876 fromnumeric.py:49(_wrapfunc)\n",
      "      141    0.001    0.000    0.004    0.000 fromnumeric.py:64(_wrapreduction)\n",
      "      841    0.006    0.000  736.478    0.876 fromnumeric.py:692(argpartition)\n",
      "      846    0.013    0.000    0.018    0.000 iostream.py:195(schedule)\n",
      "      564    0.001    0.000    0.002    0.000 iostream.py:300(_is_master_process)\n",
      "      564    0.001    0.000    0.003    0.000 iostream.py:313(_schedule_flush)\n",
      "      564    0.004    0.000    0.025    0.000 iostream.py:366(write)\n",
      "      846    0.001    0.000    0.001    0.000 iostream.py:93(_event_pipe)\n",
      "     4205    0.003    0.000    0.004    0.000 numeric.py:433(asarray)\n",
      "     4205    0.010    0.000    0.019    0.000 shape_base.py:480(expand_dims)\n",
      "      846    0.001    0.000    0.002    0.000 threading.py:1060(_wait_for_tstate_lock)\n",
      "      846    0.002    0.000    0.004    0.000 threading.py:1102(is_alive)\n",
      "      846    0.000    0.000    0.000    0.000 threading.py:504(is_set)\n",
      "      282   17.333    0.061   17.333    0.061 {built-in method add}\n",
      "        1    0.000    0.000 1049.884 1049.884 {built-in method builtins.exec}\n",
      "      841    0.001    0.000    0.001    0.000 {built-in method builtins.getattr}\n",
      "      705    0.000    0.000    0.000    0.000 {built-in method builtins.isinstance}\n",
      "      841    0.001    0.000    0.001    0.000 {built-in method builtins.len}\n",
      "      282    0.003    0.000    0.027    0.000 {built-in method builtins.print}\n",
      "      141    0.245    0.002    0.245    0.002 {built-in method conv2d}\n",
      "      141    0.001    0.000    0.001    0.000 {built-in method from_numpy}\n",
      "        1    0.000    0.000    0.000    0.000 {built-in method numpy.core.multiarray.arange}\n",
      "     4205    0.001    0.000    0.001    0.000 {built-in method numpy.core.multiarray.array}\n",
      "    13456    0.011    0.000    0.011    0.000 {built-in method numpy.core.multiarray.bincount}\n",
      "     4205    0.022    0.000    0.022    0.000 {built-in method numpy.core.multiarray.concatenate}\n",
      "     5046    0.028    0.000    0.028    0.000 {built-in method numpy.core.multiarray.unravel_index}\n",
      "     1682    0.010    0.000    0.010    0.000 {built-in method numpy.core.multiarray.zeros}\n",
      "      564    0.001    0.000    0.001    0.000 {built-in method posix.getpid}\n",
      "      423    0.000    0.000    0.000    0.000 {built-in method time.time}\n",
      "      282  124.159    0.440  124.159    0.440 {built-in method torch._C._cuda_emptyCache}\n",
      "      141    0.008    0.000    0.008    0.000 {built-in method transpose}\n",
      "      846    0.001    0.000    0.001    0.000 {method 'acquire' of '_thread.lock' objects}\n",
      "      846    0.000    0.000    0.000    0.000 {method 'append' of 'collections.deque' objects}\n",
      "     5046    0.002    0.000    0.002    0.000 {method 'append' of 'list' objects}\n",
      "      841  736.466    0.876  736.466    0.876 {method 'argpartition' of 'numpy.ndarray' objects}\n",
      "      841  128.266    0.153  128.266    0.153 {method 'cpu' of 'torch._C._TensorBase' objects}\n",
      "        1    0.000    0.000    0.000    0.000 {method 'disable' of '_lsprof.Profiler' objects}\n",
      "      282    0.013    0.000    0.013    0.000 {method 'float' of 'torch._C._TensorBase' objects}\n",
      "      141    0.000    0.000    0.000    0.000 {method 'items' of 'dict' objects}\n",
      "      841    0.010    0.000    0.010    0.000 {method 'numpy' of 'torch._C._TensorBase' objects}\n",
      "      141    0.002    0.000    0.002    0.000 {method 'reduce' of 'numpy.ufunc' objects}\n",
      "     4205    0.005    0.000    0.005    0.000 {method 'reshape' of 'numpy.ndarray' objects}\n",
      "      282   15.105    0.054   15.105    0.054 {method 'to' of 'torch._C._TensorBase' objects}\n",
      "\n",
      "\n",
      "CPU times: user 11min 33s, sys: 5min 1s, total: 16min 35s\n",
      "Wall time: 17min 29s\n"
     ]
    }
   ],
   "source": [
    "%%time\n",
    "#final_labels, all_nns = reconstruct(subpatches)\n",
    "cProfile.run('final_labels,all_nns = reconstruct(subpatches)')"
   ]
  },
  {
   "cell_type": "code",
   "execution_count": 13,
   "metadata": {},
   "outputs": [
    {
     "data": {
      "image/png": "[encoded data removed]",
      "text/plain": [
       "<Figure size 432x432 with 1 Axes>"
      ]
     },
     "metadata": {},
     "output_type": "display_data"
    }
   ],
   "source": [
    "with open('coords'+str(x)+str(y)+str(bigsize), 'wb') as fp:\n",
    "    pickle.dump(all_nns,fp)\n",
    "final_image = np.zeros((bigsize,bigsize,3),dtype=int)\n",
    "for i in range(final_labels.shape[0]):\n",
    "    for j in range(final_labels.shape[1]):\n",
    "        temp = final_labels[i,j]/np.sum(final_labels[i,j])\n",
    "        temp *= 20\n",
    "        temp = np.exp(temp)/np.sum(np.exp(temp))\n",
    "        #print(temp)\n",
    "        color = np.dot(temp,palette).astype(int)\n",
    "        final_image[i,j] = color\n",
    "plt.figure(figsize=(6,6))\n",
    "plt.imshow(final_image)\n",
    "plt.axis('off')\n",
    "plt.show()\n",
    "plt.close()"
   ]
  },
  {
   "cell_type": "code",
   "execution_count": 14,
   "metadata": {},
   "outputs": [
    {
     "data": {
      "image/png": "[encoded data removed]",
      "text/plain": [
       "<Figure size 432x288 with 1 Axes>"
      ]
     },
     "metadata": {},
     "output_type": "display_data"
    },
    {
     "name": "stdout",
     "output_type": "stream",
     "text": [
      "[[-254   -3    1 ...   39  103  103]\n",
      " [-277  -27    1 ... -139   87    1]\n",
      " [-178   -3    1 ...  -78    1    1]\n",
      " ...\n",
      " [   1    1    1 ...  -51  -11  -95]\n",
      " [ -10    2    2 ... -103 -101 -101]\n",
      " [-201   -4   -2 ... -102 -102 -101]]\n",
      "0.896484375\n"
     ]
    }
   ],
   "source": [
    "gt = np.zeros((bigsize,bigsize,3),dtype=np.uint8)\n",
    "for i in range(bigsize):\n",
    "    for j in range(bigsize):\n",
    "        gt[i,j] = palette[ground_truth[i,j]]\n",
    "plt.figure()\n",
    "plt.imshow(gt)\n",
    "plt.axis('off')\n",
    "plt.show()\n",
    "plt.close()\n",
    "tempsums = np.sum(gt-final_image,axis=2)\n",
    "print(tempsums)\n",
    "count = np.sum(tempsums<20)\n",
    "print(count/bigsize**2)"
   ]
  },
  {
   "cell_type": "code",
   "execution_count": 32,
   "metadata": {},
   "outputs": [],
   "source": [
    "flat = [item for sub in all_nns for item in sub]\n",
    "ts = np.asarray(flat)[:,:3]\n",
    "ts.shape\n",
    "with open('coords'+str(x)+str(y), 'wb') as fp:\n",
    "    pickle.dump(ts, fp)"
   ]
  },
  {
   "cell_type": "code",
   "execution_count": 37,
   "metadata": {},
   "outputs": [
    {
     "data": {
      "image/png": "[encoded data removed]",
      "text/plain": [
       "<Figure size 720x720 with 1 Axes>"
      ]
     },
     "metadata": {},
     "output_type": "display_data"
    }
   ],
   "source": [
    "\n",
    "for tnum in searched_tiles:\n",
    "    ts0 = []\n",
    "    for i in range(len(ts)):\n",
    "        if ts[i,0] == tnum:\n",
    "            ts0.append([ts[i,1],ts[i,2]])\n",
    "    xcoord,ycoord = zip(*ts0)\n",
    "    plt.figure(figsize=(10,10))\n",
    "    plt.scatter(ycoord,xcoord,s=2)\n",
    "    plt.title('Tile '+str(tnum))\n",
    "    plt.show()\n",
    "    plt.close()"
   ]
  },
  {
   "cell_type": "code",
   "execution_count": 7,
   "metadata": {
    "scrolled": false
   },
   "outputs": [],
   "source": [
    "def get_labels_small(query,nns):\n",
    "    coords = get_nns(np.arange(9)+1,query,nns)\n",
    "    labels = np.zeros((size,size,len(coords)),dtype=int)\n",
    "    for j in range(len(coords)):\n",
    "        curr = coords[j]\n",
    "        t,z1,z2 = curr[0],curr[1],curr[2]\n",
    "        labels[:,:,j] = get_labels(t,z1,z2,size)\n",
    "    qq = np.zeros((size,size,7),dtype=int)\n",
    "    for i in range(size):\n",
    "        for j in range(size):\n",
    "            temp_bin = np.bincount(labels[i,j])\n",
    "            qq[i,j] = np.pad(temp_bin,(0,7-len(temp_bin)),mode='constant')\n",
    "    coords = np.array(coords).astype(float)\n",
    "    print(qq.dtype)\n",
    "    return qq, coords\n",
    "\n",
    "def reconstruct(t,x,y,bigsize):\n",
    "    query = get_query(t,x,y,bigsize)\n",
    "    disp(query)\n",
    "    disp_label(get_labels(t,x,y,bigsize))\n",
    "    num_nns = 20\n",
    "    result = np.zeros((bigsize,bigsize,7),dtype=int)\n",
    "    grid_size = bigsize-size+1\n",
    "    to_save = np.zeros((grid_size,grid_size,num_nns,4),dtype=np.float)\n",
    "    for i in range(grid_size):\n",
    "        for j in range(grid_size):\n",
    "            temp_q = query[:,:,i:i+size,j:j+size]\n",
    "            curr_bin, save_store = get_labels_small(temp_q,num_nns)\n",
    "            result[i:i+size,j:j+size] += curr_bin\n",
    "            to_save[i,j] = save_store\n",
    "    return result,to_save"
   ]
  },
  {
   "cell_type": "code",
   "execution_count": 195,
   "metadata": {
    "collapsed": true
   },
   "outputs": [
    {
     "name": "stdout",
     "output_type": "stream",
     "text": [
      "(8, 8, 7)\n"
     ]
    },
    {
     "data": {
      "image/png": "[encoded data removed]",
      "text/plain": [
       "<Figure size 432x432 with 1 Axes>"
      ]
     },
     "metadata": {},
     "output_type": "display_data"
    }
   ],
   "source": [
    "print(result.shape)\n",
    "im = np.zeros((result.shape[0],result.shape[1],3),dtype=int)\n",
    "for i in range(result.shape[0]):\n",
    "    for j in range(result.shape[1]):\n",
    "        curr = result[i,j]/np.max(result[i,j])\n",
    "        #ls, cs = np.unique(labels[:,i,j],return_counts=True)\n",
    "        weight = 10\n",
    "        cs = curr*weight\n",
    "        #cs = np.array(cs)/np.sum(cs)*weight\n",
    "        probs = np.exp(cs)/np.sum(np.exp(cs))\n",
    "        #print(probs)\n",
    "        im[i,j] = np.dot(probs,palette).astype(int)\n",
    "plt.figure(figsize=(6,6))\n",
    "plt.imshow(im)\n",
    "plt.axis('off')\n",
    "plt.show()\n",
    "plt.close()"
   ]
  },
  {
   "cell_type": "code",
   "execution_count": 40,
   "metadata": {
    "scrolled": true
   },
   "outputs": [
    {
     "name": "stdout",
     "output_type": "stream",
     "text": [
      "(10, 3, 1000, 1000)\n"
     ]
    },
    {
     "data": {
      "image/png": "[encoded data removed]",
      "text/plain": [
       "<Figure size 432x432 with 1 Axes>"
      ]
     },
     "metadata": {},
     "output_type": "display_data"
    },
    {
     "name": "stdout",
     "output_type": "stream",
     "text": [
      "[[[ -968.77042253  -958.39640115  -953.40916084 ... -1631.67126314\n",
      "   -1625.30623412 -1621.83899445]\n",
      "  [ -956.83416769  -947.65682421  -943.85734255 ... -1609.97996513\n",
      "   -1605.03195165 -1603.54448068]\n",
      "  [ -947.19541858  -939.63577724  -937.16450259 ... -1588.74169482\n",
      "   -1585.32235601 -1586.02107448]\n",
      "  ...\n",
      "  [-1201.68058557 -1216.25837571 -1229.77486602 ...  -875.77168523\n",
      "    -884.09242504  -894.83501276]\n",
      "  [-1175.26505198 -1188.4452494  -1200.3915929  ...  -869.50781648\n",
      "    -877.49192673  -887.54473685]\n",
      "  [-1142.86063277 -1155.25276148 -1166.52858958 ...  -856.36642579\n",
      "    -864.09828125  -873.84252326]]\n",
      "\n",
      " [[-1281.20904024 -1298.44531554 -1315.02285119 ... -1214.04444623\n",
      "   -1208.78740414 -1207.24390519]\n",
      "  [-1277.32846794 -1295.38290043 -1313.63945559 ... -1212.81812322\n",
      "   -1208.25389584 -1207.7424031 ]\n",
      "  [-1286.27652437 -1305.59361257 -1325.09546782 ... -1210.02197981\n",
      "   -1205.70632244 -1205.995282  ]\n",
      "  ...\n",
      "  [-1020.65035603 -1004.95209545  -980.17485781 ... -1283.51655123\n",
      "   -1269.54097899 -1253.81834044]\n",
      "  [-1014.68694147  -997.46298356  -971.77680937 ... -1265.04642149\n",
      "   -1249.96433524 -1234.48195839]\n",
      "  [-1018.10991523  -998.89582223  -971.48218974 ... -1250.82957336\n",
      "   -1234.38398681 -1217.52831022]]\n",
      "\n",
      " [[ -510.42372717  -510.13732026  -509.01896323 ... -1079.33334566\n",
      "   -1083.11880006 -1091.70482005]\n",
      "  [ -506.82514892  -506.72854873  -506.13502519 ... -1090.00097899\n",
      "   -1095.23979823 -1103.858364  ]\n",
      "  [ -502.3964975   -502.42704239  -502.19275603 ... -1107.25591555\n",
      "   -1113.17338868 -1120.9666733 ]\n",
      "  ...\n",
      "  [ -559.48860919  -561.88177409  -563.57162607 ... -1003.46240558\n",
      "   -1009.81218122 -1017.56100126]\n",
      "  [ -564.12234715  -565.58148207  -566.25134695 ... -1012.56231615\n",
      "   -1019.72163976 -1027.7747575 ]\n",
      "  [ -568.68607015  -568.9668505   -568.51377207 ... -1026.50881976\n",
      "   -1034.31498959 -1042.58865847]]\n",
      "\n",
      " ...\n",
      "\n",
      " [[ -740.3648371   -735.21435276  -729.03394812 ...  -641.86390884\n",
      "    -650.32455989  -654.20811632]\n",
      "  [ -737.77258709  -733.22373622  -728.24409938 ...  -626.74581912\n",
      "    -634.20746738  -637.42061976]\n",
      "  [ -737.43137944  -733.80461104  -730.53374948 ...  -611.0281264\n",
      "    -617.16004493  -619.49743999]\n",
      "  ...\n",
      "  [ -761.34906072  -786.44134551  -812.54149053 ... -1323.17872853\n",
      "   -1312.75525495 -1308.7741819 ]\n",
      "  [ -779.57090731  -803.36332776  -827.62878641 ... -1338.71174444\n",
      "   -1328.07132423 -1323.57225867]\n",
      "  [ -795.77276421  -817.36359109  -839.27234745 ... -1353.81848808\n",
      "   -1342.38998902 -1338.3487544 ]]\n",
      "\n",
      " [[ -461.92248041  -461.82708769  -460.29268547 ... -1085.18155986\n",
      "   -1108.06987054 -1133.68053712]\n",
      "  [ -438.92161289  -439.92592222  -439.92720287 ... -1084.85131249\n",
      "   -1109.46630099 -1137.41865144]\n",
      "  [ -420.30161431  -422.11172399  -423.6676408  ... -1080.28730201\n",
      "   -1104.57069517 -1133.10934541]\n",
      "  ...\n",
      "  [-1084.22992897 -1064.40781994 -1040.75127806 ...  -858.46016591\n",
      "    -840.55899825  -818.76161815]\n",
      "  [-1066.38357293 -1048.98327059 -1027.9757465  ...  -860.8456916\n",
      "    -844.82919753  -825.48930238]\n",
      "  [-1047.0542252  -1032.37763528 -1014.37743943 ...  -861.5583711\n",
      "    -847.95345316  -830.92314446]]\n",
      "\n",
      " [[ -508.17661796  -500.70139636  -491.66722524 ...  -793.98446092\n",
      "    -799.83601155  -806.54239765]\n",
      "  [ -488.93113987  -483.09089095  -475.79454832 ...  -787.71945881\n",
      "    -796.19906654  -805.75424002]\n",
      "  [ -473.89330997  -469.30948358  -463.62743664 ...  -779.67249319\n",
      "    -788.58290423  -798.78941377]\n",
      "  ...\n",
      "  [ -783.41048168  -764.14144617  -743.84836934 ...  -640.77809397\n",
      "    -637.76548709  -632.76706986]\n",
      "  [ -778.90872048  -759.97947561  -740.07869432 ...  -641.77459557\n",
      "    -638.91730509  -634.04912184]\n",
      "  [ -771.82342146  -754.00229496  -735.30027394 ...  -641.29522362\n",
      "    -639.28651875  -635.32638327]]]\n",
      "[[[-1.02615799 -1.03211285 -1.03600801 ... -0.78358588 -0.78299396\n",
      "   -0.78227847]\n",
      "  [-1.03399305 -1.03943341 -1.04215247 ... -0.7890904  -0.78799322\n",
      "   -0.78682776]\n",
      "  [-1.03928511 -1.0444754  -1.04659393 ... -0.79513668 -0.79333954\n",
      "   -0.79132327]\n",
      "  ...\n",
      "  [-0.93200714 -0.9255119  -0.91860358 ... -1.05801713 -1.056004\n",
      "   -1.05313051]\n",
      "  [-0.94010614 -0.93523766 -0.92949696 ... -1.0599522  -1.05705393\n",
      "   -1.05379026]\n",
      "  [-0.95210868 -0.94757825 -0.94214371 ... -1.0686592  -1.06481745\n",
      "   -1.06091003]]\n",
      "\n",
      " [[-0.88511019 -0.87909185 -0.87294854 ... -0.90952256 -0.90615699\n",
      "   -0.90217283]\n",
      "  [-0.88402422 -0.87703826 -0.87090465 ... -0.91369323 -0.90995624\n",
      "   -0.90458267]\n",
      "  [-0.87890359 -0.87054792 -0.8640527  ... -0.91546232 -0.9126429\n",
      "   -0.9077547 ]\n",
      "  ...\n",
      "  [-0.98918944 -0.99716345 -1.01016124 ... -0.89800948 -0.89431833\n",
      "   -0.89487948]\n",
      "  [-0.99381385 -1.00262529 -1.01577377 ... -0.90145255 -0.89981717\n",
      "   -0.90126563]\n",
      "  [-0.99268775 -1.00183147 -1.01630582 ... -0.90225047 -0.9037497\n",
      "   -0.90740995]]\n",
      "\n",
      " [[-1.40641012 -1.40879325 -1.40954955 ... -0.97365183 -0.96937607\n",
      "   -0.96529867]\n",
      "  [-1.40764386 -1.410507   -1.41191588 ... -0.96588616 -0.96244146\n",
      "   -0.95897074]\n",
      "  [-1.41055148 -1.41361554 -1.41507651 ... -0.95644643 -0.9541696\n",
      "   -0.95242457]\n",
      "  ...\n",
      "  [-1.34273184 -1.34265187 -1.34425296 ... -0.99641859 -0.99119467\n",
      "   -0.9870399 ]\n",
      "  [-1.33735332 -1.33787104 -1.3410221  ... -0.99334894 -0.98772231\n",
      "   -0.98284863]\n",
      "  [-1.33166161 -1.33253619 -1.33697818 ... -0.98935797 -0.98333968\n",
      "   -0.97826512]]\n",
      "\n",
      " ...\n",
      "\n",
      " [[-1.14798802 -1.15800109 -1.16858783 ... -1.27257295 -1.26138858\n",
      "   -1.25387572]\n",
      "  [-1.15473718 -1.16248047 -1.16953797 ... -1.28982144 -1.27781745\n",
      "   -1.26865245]\n",
      "  [-1.16013492 -1.16426217 -1.16717074 ... -1.30877829 -1.29753386\n",
      "   -1.28663197]\n",
      "  ...\n",
      "  [-1.13612924 -1.11611814 -1.0989866  ... -0.87817329 -0.88114254\n",
      "   -0.88101588]\n",
      "  [-1.1232801  -1.10398049 -1.08856064 ... -0.87320418 -0.87594722\n",
      "   -0.87602372]\n",
      "  [-1.11633656 -1.09831907 -1.08480417 ... -0.86755709 -0.87057667\n",
      "   -0.87122355]]\n",
      "\n",
      " [[-1.44714351 -1.45032405 -1.45778949 ... -0.95866406 -0.9470691\n",
      "   -0.9349271 ]\n",
      "  [-1.48574106 -1.48702769 -1.49263592 ... -0.96082833 -0.94762502\n",
      "   -0.93402417]\n",
      "  [-1.52599028 -1.52521069 -1.52672423 ... -0.96438939 -0.95025021\n",
      "   -0.93565884]\n",
      "  ...\n",
      "  [-0.95933202 -0.97032707 -0.98245704 ... -1.07194899 -1.08182135\n",
      "   -1.0952175 ]\n",
      "  [-0.96979424 -0.98005317 -0.9913804  ... -1.07199494 -1.08053956\n",
      "   -1.09318465]\n",
      "  [-0.9813889  -0.99001993 -0.99993187 ... -1.0720767  -1.07947209\n",
      "   -1.09175064]]\n",
      "\n",
      " [[-1.38104927 -1.39464201 -1.41304752 ... -1.11750034 -1.11086635\n",
      "   -1.10415228]\n",
      "  [-1.40732914 -1.42075249 -1.43757476 ... -1.12257375 -1.1136351\n",
      "   -1.10584036]\n",
      "  [-1.43063103 -1.44296355 -1.45727605 ... -1.13163024 -1.1234893\n",
      "   -1.11556537]\n",
      "  ...\n",
      "  [-1.14137714 -1.15322647 -1.1631866  ... -1.2603359  -1.26245292\n",
      "   -1.26535121]\n",
      "  [-1.14520971 -1.15691718 -1.16742379 ... -1.25717579 -1.25706593\n",
      "   -1.2613876 ]\n",
      "  [-1.14969062 -1.16097564 -1.17164314 ... -1.25525339 -1.25224795\n",
      "   -1.25612375]]]\n"
     ]
    }
   ],
   "source": [
    "a = all_tiles[:,:,:1000,:1000]\n",
    "print(a.shape)\n",
    "new_size = 32\n",
    "query = a[0,:,222:222+new_size,222:222+new_size]\n",
    "query = np.expand_dims(query,axis=0)\n",
    "disp(query)\n",
    "\n",
    "a_squared = cum_sum(a**2,new_size)/new_size**2\n",
    "a_sum = cum_sum(a,new_size)/new_size\n",
    "a_sum_sq = a_sum**2\n",
    "denom = np.sum(a_squared - a_sum_sq,axis=1)\n",
    "print(denom)\n",
    "\n",
    "tile_torch = torch.from_numpy(a).float().to(device)\n",
    "query_torch = torch.from_numpy(query).float().to(device)\n",
    "conv = torch.squeeze(F.conv2d(tile_torch,query_torch))\n",
    "conv = conv.cpu().numpy()\n",
    "q_mean = np.mean(query)\n",
    "\n",
    "num_prod = np.sum(q_mean*a_sum,axis=1)\n",
    "\n",
    "num = conv - num_prod\n",
    "\n",
    "frac = num/denom\n",
    "print(frac)"
   ]
  },
  {
   "cell_type": "code",
   "execution_count": 39,
   "metadata": {},
   "outputs": [
    {
     "name": "stdout",
     "output_type": "stream",
     "text": [
      "(5, 327, 344)\n"
     ]
    }
   ],
   "source": [
    "currmax = np.unravel_index(np.argmax(frac),(frac.shape))\n",
    "print(currmax)"
   ]
  },
  {
   "cell_type": "code",
   "execution_count": 130,
   "metadata": {
    "scrolled": false
   },
   "outputs": [],
   "source": [
    "ts = np.reshape(to_save,(-1,4))[:,:3].astype(int)"
   ]
  },
  {
   "cell_type": "code",
   "execution_count": 131,
   "metadata": {},
   "outputs": [
    {
     "data": {
      "text/plain": [
       "(6400, 3)"
      ]
     },
     "execution_count": 131,
     "metadata": {},
     "output_type": "execute_result"
    }
   ],
   "source": [
    "ts.shape"
   ]
  },
  {
   "cell_type": "code",
   "execution_count": 44,
   "metadata": {},
   "outputs": [
    {
     "name": "stdout",
     "output_type": "stream",
     "text": [
      "CPU times: user 13.1 s, sys: 8.1 s, total: 21.2 s\n",
      "Wall time: 21.2 s\n"
     ]
    }
   ],
   "source": [
    "%%time\n",
    "conv0 = conv_lookup(np.arange(10),subpatches[:max_load,:,:,:],device0)"
   ]
  },
  {
   "cell_type": "code",
   "execution_count": 17,
   "metadata": {},
   "outputs": [
    {
     "name": "stdout",
     "output_type": "stream",
     "text": [
      "[[[[ 550  575  600  625  650  675]\n",
      "   [ 800  825  850  875  900  925]\n",
      "   [1050 1075 1100 1125 1150 1175]\n",
      "   [1300 1325 1350 1375 1400 1425]\n",
      "   [1550 1575 1600 1625 1650 1675]\n",
      "   [1800 1825 1850 1875 1900 1925]]]]\n"
     ]
    },
    {
     "ename": "RuntimeError",
     "evalue": "thnn_conv2d_forward is not implemented for type torch.IntTensor",
     "output_type": "error",
     "traceback": [
      "\u001b[0;31m---------------------------------------------------------------------------\u001b[0m",
      "\u001b[0;31mRuntimeError\u001b[0m                              Traceback (most recent call last)",
      "\u001b[0;32m<ipython-input-17-7fedb28891a7>\u001b[0m in \u001b[0;36m<module>\u001b[0;34m()\u001b[0m\n\u001b[1;32m      4\u001b[0m \u001b[0marr_t\u001b[0m \u001b[0;34m=\u001b[0m \u001b[0mtorch\u001b[0m\u001b[0;34m.\u001b[0m\u001b[0mfrom_numpy\u001b[0m\u001b[0;34m(\u001b[0m\u001b[0marr\u001b[0m\u001b[0;34m)\u001b[0m\u001b[0;34m.\u001b[0m\u001b[0mint\u001b[0m\u001b[0;34m(\u001b[0m\u001b[0;34m)\u001b[0m\u001b[0;34m\u001b[0m\u001b[0m\n\u001b[1;32m      5\u001b[0m \u001b[0monemat\u001b[0m \u001b[0;34m=\u001b[0m \u001b[0mtorch\u001b[0m\u001b[0;34m.\u001b[0m\u001b[0mones\u001b[0m\u001b[0;34m(\u001b[0m\u001b[0;34m(\u001b[0m\u001b[0;36m1\u001b[0m\u001b[0;34m,\u001b[0m\u001b[0;36m1\u001b[0m\u001b[0;34m,\u001b[0m\u001b[0;36m5\u001b[0m\u001b[0;34m,\u001b[0m\u001b[0;36m5\u001b[0m\u001b[0;34m)\u001b[0m\u001b[0;34m,\u001b[0m\u001b[0mdtype\u001b[0m\u001b[0;34m=\u001b[0m\u001b[0mtorch\u001b[0m\u001b[0;34m.\u001b[0m\u001b[0mint\u001b[0m\u001b[0;34m)\u001b[0m\u001b[0;34m\u001b[0m\u001b[0m\n\u001b[0;32m----> 6\u001b[0;31m \u001b[0mconv\u001b[0m \u001b[0;34m=\u001b[0m \u001b[0mF\u001b[0m\u001b[0;34m.\u001b[0m\u001b[0mconv2d\u001b[0m\u001b[0;34m(\u001b[0m\u001b[0marr_t\u001b[0m\u001b[0;34m,\u001b[0m\u001b[0monemat\u001b[0m\u001b[0;34m)\u001b[0m\u001b[0;34m\u001b[0m\u001b[0m\n\u001b[0m\u001b[1;32m      7\u001b[0m \u001b[0mprint\u001b[0m\u001b[0;34m(\u001b[0m\u001b[0mconv\u001b[0m\u001b[0;34m)\u001b[0m\u001b[0;34m\u001b[0m\u001b[0m\n",
      "\u001b[0;31mRuntimeError\u001b[0m: thnn_conv2d_forward is not implemented for type torch.IntTensor"
     ]
    }
   ],
   "source": [
    "arr = np.reshape(np.arange(100),(1,1,10,10))\n",
    "cs = cum_sum(arr,5)\n",
    "print(cs)\n",
    "arr_t = torch.from_numpy(arr).float()\n",
    "onemat = torch.ones((1,1,5,5),dtype=torch.float)\n",
    "conv = F.conv2d(arr_t,onemat)\n",
    "print(conv)"
   ]
  },
  {
   "cell_type": "code",
   "execution_count": 31,
   "metadata": {
    "collapsed": true
   },
   "outputs": [
    {
     "name": "stdout",
     "output_type": "stream",
     "text": [
      "[[[[  15887872   15888896   15889920 ...   16877056   16878080\n",
      "      16879104]\n",
      "   [  16911872   16912896   16913920 ...   17901056   17902080\n",
      "      17903104]\n",
      "   [  17935872   17936896   17937920 ...   18925056   18926080\n",
      "      18927104]\n",
      "   ...\n",
      "   [1005071872 1005072896 1005073920 ... 1006061056 1006062080\n",
      "    1006063104]\n",
      "   [1006095872 1006096896 1006097920 ... 1007085056 1007086080\n",
      "    1007087104]\n",
      "   [1007119872 1007120896 1007121920 ... 1008109056 1008110080\n",
      "    1008111104]]]]\n",
      "CPU times: user 170 ms, sys: 43.4 ms, total: 214 ms\n",
      "Wall time: 213 ms\n"
     ]
    }
   ],
   "source": [
    "%%time\n",
    "arr = np.reshape(np.arange(1000000),(1,1,1000,1000))\n",
    "for i in range(10):\n",
    "    cs = cum_sum(arr,32)\n",
    "print(cs)"
   ]
  },
  {
   "cell_type": "code",
   "execution_count": 35,
   "metadata": {
    "collapsed": true
   },
   "outputs": [
    {
     "name": "stdout",
     "output_type": "stream",
     "text": [
      "tensor([[[[  15887872,   15888896,   15889920,  ...,   16877056,\n",
      "             16878080,   16879104],\n",
      "          [  16911872,   16912896,   16913920,  ...,   17901056,\n",
      "             17902080,   17903104],\n",
      "          [  17935872,   17936896,   17937920,  ...,   18925056,\n",
      "             18926080,   18927104],\n",
      "          ...,\n",
      "          [1005071872, 1005072896, 1005073920,  ..., 1006061056,\n",
      "           1006062080, 1006063104],\n",
      "          [1006095872, 1006096896, 1006097920,  ..., 1007085056,\n",
      "           1007086080, 1007087104],\n",
      "          [1007119872, 1007120896, 1007121920,  ..., 1008109056,\n",
      "           1008110080, 1008111104]]]])\n",
      "CPU times: user 657 ms, sys: 81.6 ms, total: 739 ms\n",
      "Wall time: 738 ms\n"
     ]
    }
   ],
   "source": [
    "%%time\n",
    "arr_t = torch.from_numpy(arr)\n",
    "#onemat = torch.ones((1,1,32,32),dtype=torch.float)\n",
    "for i in range(10):\n",
    "    conv = torch.from_numpy(cum_sum(arr_t,32))\n",
    "print(conv)"
   ]
  },
  {
   "cell_type": "code",
   "execution_count": 7,
   "metadata": {},
   "outputs": [],
   "source": [
    "torch.cuda.empty_cache()"
   ]
  },
  {
   "cell_type": "code",
   "execution_count": 41,
   "metadata": {
    "collapsed": true
   },
   "outputs": [
    {
     "name": "stdout",
     "output_type": "stream",
     "text": [
      "tensor([[1.5000, 1.5000, 1.5000, 1.5000, 1.5000, 1.5000, 1.5000, 1.5000, 1.5000,\n",
      "         1.5000],\n",
      "        [1.5000, 1.5000, 1.5000, 1.5000, 1.5000, 1.5000, 1.5000, 1.5000, 1.5000,\n",
      "         1.5000],\n",
      "        [1.5000, 1.5000, 1.5000, 1.5000, 1.5000, 1.5000, 1.5000, 1.5000, 1.5000,\n",
      "         1.5000],\n",
      "        [1.5000, 1.5000, 1.5000, 1.5000, 1.5000, 1.5000, 1.5000, 1.5000, 1.5000,\n",
      "         1.5000],\n",
      "        [1.5000, 1.5000, 1.5000, 1.5000, 1.5000, 1.5000, 1.5000, 1.5000, 1.5000,\n",
      "         1.5000],\n",
      "        [1.5000, 1.5000, 1.5000, 1.5000, 1.5000, 1.5000, 1.5000, 1.5000, 1.5000,\n",
      "         1.5000],\n",
      "        [1.5000, 1.5000, 1.5000, 1.5000, 1.5000, 1.5000, 1.5000, 1.5000, 1.5000,\n",
      "         1.5000],\n",
      "        [1.5000, 1.5000, 1.5000, 1.5000, 1.5000, 1.5000, 1.5000, 1.5000, 1.5000,\n",
      "         1.5000],\n",
      "        [1.5000, 1.5000, 1.5000, 1.5000, 1.5000, 1.5000, 1.5000, 1.5000, 1.5000,\n",
      "         1.5000],\n",
      "        [1.5000, 1.5000, 1.5000, 1.5000, 1.5000, 1.5000, 1.5000, 1.5000, 1.5000,\n",
      "         1.5000]], device='cuda:0')\n"
     ]
    }
   ],
   "source": [
    "tt = torch.ones(10,10).to(device0)\n",
    "ww = torch.Tensor([.5]).to(device0)\n",
    "ss = .5\n",
    "tt = torch.add(tt,ss)\n",
    "print(tt)"
   ]
  },
  {
   "cell_type": "code",
   "execution_count": 10,
   "metadata": {},
   "outputs": [
    {
     "name": "stdout",
     "output_type": "stream",
     "text": [
      "CPU times: user 2.15 s, sys: 1.47 s, total: 3.62 s\n",
      "Wall time: 3.62 s\n"
     ]
    }
   ],
   "source": [
    "%%time\n",
    "for i in range(1000):\n",
    "    tt+ww"
   ]
  },
  {
   "cell_type": "code",
   "execution_count": 9,
   "metadata": {},
   "outputs": [
    {
     "name": "stdout",
     "output_type": "stream",
     "text": [
      "CPU times: user 2.31 s, sys: 1.51 s, total: 3.82 s\n",
      "Wall time: 3.81 s\n"
     ]
    }
   ],
   "source": [
    "%%time\n",
    "for i in range(1000):\n",
    "    tt+ss"
   ]
  },
  {
   "cell_type": "code",
   "execution_count": 20,
   "metadata": {},
   "outputs": [],
   "source": [
    "query = subpatches[2:7,:,:,:]\n",
    "\n",
    "query_squared = torch.Tensor([np.sum(query**2)]).float().to(device0)\n",
    "conv = F.conv2d(tile_torch[np.arange(10),:,:,:],torch.from_numpy(query).float().to(device0))\n",
    "torch.cuda.empty_cache()\n",
    "conv = torch.transpose(conv,0,1)\n",
    "##conv = conv.cpu().numpy()\n",
    "\n",
    "##conv = np.rollaxis(conv,1,0)\n",
    "#time0 = float(time.time())\n",
    "conv = torch.add(tiles_squared[np.arange(10),:,:],-2,conv)\n",
    "torch.cuda.empty_cache()\n",
    "conv = torch.add(conv,query_squared)\n",
    "torch.cuda.empty_cache()\n",
    "#print(float(time.time())-time0,conv.shape)\n",
    "\n",
    "#print(conv0.shape)"
   ]
  },
  {
   "cell_type": "code",
   "execution_count": 13,
   "metadata": {},
   "outputs": [],
   "source": [
    "#del conv\n",
    "torch.cuda.empty_cache()"
   ]
  },
  {
   "cell_type": "code",
   "execution_count": 31,
   "metadata": {},
   "outputs": [
    {
     "name": "stdout",
     "output_type": "stream",
     "text": [
      "tensor(16)\n"
     ]
    }
   ],
   "source": [
    "tt = torch.randn((5,5))\n",
    "print(torch.argmin(tt))"
   ]
  },
  {
   "cell_type": "code",
   "execution_count": null,
   "metadata": {},
   "outputs": [],
   "source": []
  }
 ],
 "metadata": {
  "kernelspec": {
   "display_name": "Python 3",
   "language": "python",
   "name": "python3"
  },
  "language_info": {
   "codemirror_mode": {
    "name": "ipython",
    "version": 3
   },
   "file_extension": ".py",
   "mimetype": "text/x-python",
   "name": "python",
   "nbconvert_exporter": "python",
   "pygments_lexer": "ipython3",
   "version": "3.5.4"
  }
 },
 "nbformat": 4,
 "nbformat_minor": 2
}
