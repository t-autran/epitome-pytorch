{
 "cells": [
  {
   "cell_type": "code",
   "execution_count": 2,
   "metadata": {},
   "outputs": [
    {
     "name": "stdout",
     "output_type": "stream",
     "text": [
      "The autoreload extension is already loaded. To reload it, use:\n",
      "  %reload_ext autoreload\n"
     ]
    }
   ],
   "source": [
    "%matplotlib inline\n",
    "%load_ext autoreload\n",
    "%autoreload 2\n",
    "import sys,os,time\n",
    "import numpy as np\n",
    "import rasterio\n",
    "from rasterio.windows import Window\n",
    "import matplotlib.pyplot as plt\n",
    "import skimage.transform\n",
    "import skimage.measure\n",
    "from sklearn.neighbors import BallTree\n",
    "from sklearn.feature_extraction.image import extract_patches_2d\n",
    "import scipy\n",
    "from scipy.spatial.distance import euclidean\n",
    "from scipy.signal import fftconvolve,correlate\n",
    "import pandas as pd\n",
    "import pickle\n",
    "from sklearn.preprocessing import StandardScaler\n",
    "from nearpy import Engine\n",
    "from nearpy.hashes import RandomBinaryProjections\n",
    "import cv2\n",
    "import torch\n",
    "import torch.nn as nn\n",
    "import torch.nn.functional as F\n",
    "import torchvision\n",
    "from sklearn.preprocessing import OneHotEncoder\n",
    "from annoy import AnnoyIndex"
   ]
  },
  {
   "cell_type": "code",
   "execution_count": 89,
   "metadata": {},
   "outputs": [],
   "source": [
    "p = pd.read_csv(\"big_lc_paths.csv\", header=None)\n",
    "paths = p[0].tolist()\n",
    "ds = 2\n",
    "lc_path = \"downsampled_data\"+str(ds)+\"/\"\n",
    "\n",
    "def fn(i):\n",
    "    return paths[i].replace('/','-')[:-7]\n",
    "\n",
    "def disp(pic):\n",
    "    plt.figure(figsize=(6,6))\n",
    "    plt.imshow(pic)\n",
    "    plt.axis('off')\n",
    "    plt.show()\n",
    "    plt.close()"
   ]
  },
  {
   "cell_type": "code",
   "execution_count": 90,
   "metadata": {},
   "outputs": [
    {
     "data": {
      "text/plain": [
       "(3831, 3093)"
      ]
     },
     "execution_count": 90,
     "metadata": {},
     "output_type": "execute_result"
    }
   ],
   "source": [
    "lc = np.load(lc_path+fn(0)+'.npz')['a']\n",
    "lc.shape"
   ]
  },
  {
   "cell_type": "code",
   "execution_count": 91,
   "metadata": {},
   "outputs": [
    {
     "name": "stderr",
     "output_type": "stream",
     "text": [
      "/anaconda/envs/py35/lib/python3.5/site-packages/sklearn/feature_extraction/image.py:287: FutureWarning: Using a non-tuple sequence for multidimensional indexing is deprecated; use `arr[tuple(seq)]` instead of `arr[seq]`. In the future this will be interpreted as an array index, `arr[np.array(seq)]`, which will result either in an error or a different result.\n",
      "  indexing_strides = arr[slices].strides\n"
     ]
    },
    {
     "name": "stdout",
     "output_type": "stream",
     "text": [
      "(11828520, 4, 4)\n",
      "(785282, 4, 4) (785282,) (785282,)\n",
      "CPU times: user 1min 5s, sys: 277 ms, total: 1min 6s\n",
      "Wall time: 1min 6s\n"
     ]
    }
   ],
   "source": [
    "%%time\n",
    "size = 4\n",
    "patches = extract_patches_2d(lc,(size,size))\n",
    "print(patches.shape)\n",
    "labels, indices,counts = np.unique(patches,axis=0,return_index=True,return_counts=True)\n",
    "print(labels.shape,indices.shape,counts.shape)"
   ]
  },
  {
   "cell_type": "code",
   "execution_count": 92,
   "metadata": {},
   "outputs": [
    {
     "name": "stdout",
     "output_type": "stream",
     "text": [
      "[ 884580 1378187  958785 ...      44     817      35]\n",
      "[[286 840]\n",
      " [446  47]\n",
      " [310 885]\n",
      " ...\n",
      " [  0  44]\n",
      " [  0 817]\n",
      " [  0  35]]\n"
     ]
    }
   ],
   "source": [
    "print(indices)\n",
    "indices_unr = np.stack(np.unravel_index(indices,(lc.shape[0]-size+1,lc.shape[1]-size+1)),axis=1)\n",
    "print(indices_unr)"
   ]
  },
  {
   "cell_type": "code",
   "execution_count": 93,
   "metadata": {},
   "outputs": [
    {
     "name": "stdout",
     "output_type": "stream",
     "text": [
      "(785282, 2)\n",
      "[[0 0 0 0]\n",
      " [0 0 0 0]\n",
      " [0 0 0 0]\n",
      " [0 0 0 5]]\n",
      "[[0 0 0 0]\n",
      " [0 0 0 0]\n",
      " [0 0 0 0]\n",
      " [0 0 0 5]]\n"
     ]
    }
   ],
   "source": [
    "print(indices_unr.shape)\n",
    "ix = 3\n",
    "print(labels[ix])\n",
    "print(lc[indices_unr[ix,0]:indices_unr[ix,0]+size,indices_unr[ix,1]:indices_unr[ix,1]+size])"
   ]
  },
  {
   "cell_type": "code",
   "execution_count": 94,
   "metadata": {},
   "outputs": [
    {
     "data": {
      "text/plain": [
       "(3, 3831, 3093)"
      ]
     },
     "execution_count": 94,
     "metadata": {},
     "output_type": "execute_result"
    }
   ],
   "source": [
    "naip_path = \"downsampled_data_naip\"+str(ds)+\"/\"\n",
    "naip = np.load(naip_path+fn(0)+'.npz')['a']\n",
    "naip.shape"
   ]
  },
  {
   "cell_type": "code",
   "execution_count": 95,
   "metadata": {},
   "outputs": [
    {
     "name": "stdout",
     "output_type": "stream",
     "text": [
      "CPU times: user 22.9 s, sys: 131 ms, total: 23.1 s\n",
      "Wall time: 23 s\n"
     ]
    }
   ],
   "source": [
    "%%time\n",
    "bag = []\n",
    "ai = AnnoyIndex(3*size**2)\n",
    "for idx,i in enumerate(counts_unr):\n",
    "    temp = naip[:,i[0]:+i[0]+size,i[1]:i[1]+size].flatten()\n",
    "    ai.add_item(idx,temp)\n",
    "ai.build(10)"
   ]
  },
  {
   "cell_type": "code",
   "execution_count": 101,
   "metadata": {},
   "outputs": [
    {
     "name": "stdout",
     "output_type": "stream",
     "text": [
      "[636079, 425009, 375917, 712796, 290598, 652688, 699042, 284771, 753833, 683484, 553836, 652826, 481112, 352109, 658354, 377775, 284838, 723629, 130182, 267573]\n",
      "[ 1  1  2  1  4  3  1 28 52  1  1  1  1  2  1  4  2  1  1  6]\n",
      "[[[6 1 1 1]\n",
      "  [6 3 1 5]\n",
      "  [6 1 1 3]\n",
      "  [1 1 1 1]]\n",
      "\n",
      " [[5 1 1 1]\n",
      "  [3 3 3 3]\n",
      "  [3 3 3 3]\n",
      "  [3 1 1 1]]\n",
      "\n",
      " [[3 5 3 5]\n",
      "  [3 3 3 5]\n",
      "  [3 3 1 1]\n",
      "  [1 1 1 1]]\n",
      "\n",
      " [[6 6 3 6]\n",
      "  [3 3 3 3]\n",
      "  [3 1 1 1]\n",
      "  [1 1 1 3]]\n",
      "\n",
      " [[3 3 3 3]\n",
      "  [1 1 1 3]\n",
      "  [3 1 1 3]\n",
      "  [3 3 1 3]]\n",
      "\n",
      " [[6 3 1 3]\n",
      "  [6 3 1 1]\n",
      "  [6 1 1 1]\n",
      "  [6 1 1 1]]\n",
      "\n",
      " [[6 6 1 6]\n",
      "  [6 6 6 6]\n",
      "  [6 1 1 6]\n",
      "  [6 1 1 1]]\n",
      "\n",
      " [[3 3 3 1]\n",
      "  [3 3 3 3]\n",
      "  [3 3 3 3]\n",
      "  [1 3 1 1]]\n",
      "\n",
      " [[6 6 6 6]\n",
      "  [3 3 3 3]\n",
      "  [3 3 3 3]\n",
      "  [1 1 1 1]]\n",
      "\n",
      " [[6 5 5 5]\n",
      "  [6 5 1 5]\n",
      "  [3 1 1 3]\n",
      "  [3 1 1 1]]\n",
      "\n",
      " [[5 5 5 3]\n",
      "  [5 1 1 1]\n",
      "  [5 5 1 5]\n",
      "  [5 5 3 5]]\n",
      "\n",
      " [[6 3 1 3]\n",
      "  [6 3 3 3]\n",
      "  [6 1 3 3]\n",
      "  [6 1 1 1]]\n",
      "\n",
      " [[5 3 5 3]\n",
      "  [5 3 3 3]\n",
      "  [3 3 3 1]\n",
      "  [3 3 3 1]]\n",
      "\n",
      " [[3 3 5 5]\n",
      "  [3 5 5 5]\n",
      "  [3 5 5 3]\n",
      "  [3 3 5 1]]\n",
      "\n",
      " [[6 3 3 3]\n",
      "  [3 6 1 3]\n",
      "  [3 1 1 1]\n",
      "  [3 1 1 1]]\n",
      "\n",
      " [[3 5 5 1]\n",
      "  [3 3 3 1]\n",
      "  [3 1 1 1]\n",
      "  [3 1 1 1]]\n",
      "\n",
      " [[3 3 3 1]\n",
      "  [3 3 3 3]\n",
      "  [3 3 3 3]\n",
      "  [5 1 1 3]]\n",
      "\n",
      " [[6 6 5 5]\n",
      "  [6 6 6 5]\n",
      "  [6 1 6 1]\n",
      "  [6 1 1 5]]\n",
      "\n",
      " [[1 1 6 6]\n",
      "  [1 1 3 6]\n",
      "  [3 1 1 1]\n",
      "  [1 1 1 1]]\n",
      "\n",
      " [[3 3 1 1]\n",
      "  [3 5 1 1]\n",
      "  [5 1 1 1]\n",
      "  [5 1 1 1]]]\n"
     ]
    }
   ],
   "source": [
    "x,y = 1500,1500\n",
    "query = naip[:,x:x+size,y:y+size].flatten()\n",
    "nns, dists = ai.get_nns_by_vector(query,20,include_distances=True)\n",
    "print(nns)\n",
    "results = labels[nns]\n",
    "results_dists = counts[nns]\n",
    "print(results_dists)\n",
    "print(results)"
   ]
  },
  {
   "cell_type": "code",
   "execution_count": 86,
   "metadata": {},
   "outputs": [
    {
     "name": "stdout",
     "output_type": "stream",
     "text": [
      "[[[5 5 5 5]\n",
      "  [6 5 5 3]\n",
      "  [3 1 3 3]\n",
      "  [6 1 1 6]]]\n",
      "[[3 3 5 5]\n",
      " [6 3 3 1]\n",
      " [6 1 1 1]\n",
      " [6 6 1 1]]\n"
     ]
    }
   ],
   "source": [
    "from scipy.stats import mode\n",
    "print(mode(results,axis=0)[0])\n",
    "#print(results)\n",
    "print(lc[x:x+size,y:y+size])"
   ]
  },
  {
   "cell_type": "code",
   "execution_count": 67,
   "metadata": {},
   "outputs": [
    {
     "data": {
      "text/plain": [
       "torch.Size([2, 2, 85, 85])"
      ]
     },
     "execution_count": 67,
     "metadata": {},
     "output_type": "execute_result"
    }
   ],
   "source": [
    "conv.shape"
   ]
  },
  {
   "cell_type": "code",
   "execution_count": 59,
   "metadata": {},
   "outputs": [
    {
     "name": "stdout",
     "output_type": "stream",
     "text": [
      "tensor([[20925350., 20822000., 20602148.,  ..., 13579866., 13536884.,\n",
      "         13534338.],\n",
      "        [20750254., 20634430., 20452100.,  ..., 13521139., 13422972.,\n",
      "         13372901.],\n",
      "        [20603078., 20473094., 20315998.,  ..., 13548474., 13430217.,\n",
      "         13380922.],\n",
      "        ...,\n",
      "        [18017884., 17736132., 17568998.,  ..., 23011862., 23074744.,\n",
      "         23097480.],\n",
      "        [18063466., 17786938., 17561666.,  ..., 23093254., 23172692.,\n",
      "         23213468.],\n",
      "        [18065398., 17819936., 17571112.,  ..., 23304184., 23368388.,\n",
      "         23382402.]], device='cuda:0')\n"
     ]
    }
   ],
   "source": [
    "conv11 = conv[0,0,:,:]\n",
    "print(conv11)"
   ]
  },
  {
   "cell_type": "code",
   "execution_count": 55,
   "metadata": {},
   "outputs": [],
   "source": [
    "conv2 = F.conv2d(naip_torch,torch.from_numpy(q1).float().to(device0))"
   ]
  },
  {
   "cell_type": "code",
   "execution_count": 60,
   "metadata": {},
   "outputs": [
    {
     "name": "stdout",
     "output_type": "stream",
     "text": [
      "tensor([[20925350., 20822000., 20602148.,  ..., 13579866., 13536884.,\n",
      "         13534338.],\n",
      "        [20750254., 20634430., 20452100.,  ..., 13521139., 13422972.,\n",
      "         13372901.],\n",
      "        [20603078., 20473094., 20315998.,  ..., 13548474., 13430217.,\n",
      "         13380922.],\n",
      "        ...,\n",
      "        [18017884., 17736132., 17568998.,  ..., 23011862., 23074744.,\n",
      "         23097480.],\n",
      "        [18063466., 17786938., 17561666.,  ..., 23093254., 23172692.,\n",
      "         23213468.],\n",
      "        [18065398., 17819936., 17571112.,  ..., 23304184., 23368388.,\n",
      "         23382402.]], device='cuda:0')\n"
     ]
    }
   ],
   "source": [
    "conv12 = conv2[0,0,:,:]\n",
    "print(conv12)"
   ]
  },
  {
   "cell_type": "code",
   "execution_count": 64,
   "metadata": {},
   "outputs": [
    {
     "data": {
      "text/plain": [
       "tensor(7225, device='cuda:0')"
      ]
     },
     "execution_count": 64,
     "metadata": {},
     "output_type": "execute_result"
    }
   ],
   "source": [
    "torch.sum(conv11==conv12)"
   ]
  },
  {
   "cell_type": "code",
   "execution_count": 71,
   "metadata": {},
   "outputs": [
    {
     "data": {
      "text/plain": [
       "array([[[[ 0,  0,  0,  0,  0],\n",
       "         [ 0,  0,  0,  0,  0]],\n",
       "\n",
       "        [[40, 40, 40, 40, 40],\n",
       "         [40, 40, 40, 40, 40]]],\n",
       "\n",
       "\n",
       "       [[[10, 10, 10, 10, 10],\n",
       "         [10, 10, 10, 10, 10]],\n",
       "\n",
       "        [[50, 50, 50, 50, 50],\n",
       "         [50, 50, 50, 50, 50]]],\n",
       "\n",
       "\n",
       "       [[[20, 20, 20, 20, 20],\n",
       "         [20, 20, 20, 20, 20]],\n",
       "\n",
       "        [[60, 60, 60, 60, 60],\n",
       "         [60, 60, 60, 60, 60]]],\n",
       "\n",
       "\n",
       "       [[[30, 30, 30, 30, 30],\n",
       "         [30, 30, 30, 30, 30]],\n",
       "\n",
       "        [[70, 70, 70, 70, 70],\n",
       "         [70, 70, 70, 70, 70]]],\n",
       "\n",
       "\n",
       "       [[[40, 40, 40, 40, 40],\n",
       "         [40, 40, 40, 40, 40]],\n",
       "\n",
       "        [[80, 80, 80, 80, 80],\n",
       "         [80, 80, 80, 80, 80]]]])"
      ]
     },
     "execution_count": 71,
     "metadata": {},
     "output_type": "execute_result"
    }
   ],
   "source": [
    "ar = np.reshape(np.arange(100),(2,5,2,5))\n",
    "ar = np.rollaxis(ar,1,0)\n",
    "at = np.reshape(np.arange(20),(2,2,5))\n",
    "ar-at"
   ]
  },
  {
   "cell_type": "code",
   "execution_count": 7,
   "metadata": {},
   "outputs": [
    {
     "name": "stdout",
     "output_type": "stream",
     "text": [
      "(7662, 6185, 3)\n"
     ]
    }
   ],
   "source": [
    "c = rasterio.open(\"/mnt/blobfuse/esri-naip/\"+fn(0).replace('-','/')+\".mrf\",'r')\n",
    "naip = c.read()[:3,:,:]\n",
    "naip = np.rollaxis(naip,0,3)\n",
    "c.close()\n",
    "print(naip.shape)"
   ]
  },
  {
   "cell_type": "code",
   "execution_count": 17,
   "metadata": {},
   "outputs": [
    {
     "name": "stderr",
     "output_type": "stream",
     "text": [
      "/anaconda/envs/py35/lib/python3.5/site-packages/sklearn/feature_extraction/image.py:287: FutureWarning: Using a non-tuple sequence for multidimensional indexing is deprecated; use `arr[tuple(seq)]` instead of `arr[seq]`. In the future this will be interpreted as an array index, `arr[np.array(seq)]`, which will result either in an error or a different result.\n",
      "  indexing_strides = arr[slices].strides\n"
     ]
    }
   ],
   "source": [
    "patches = extract_patches_2d(naip,(8,8))"
   ]
  },
  {
   "cell_type": "code",
   "execution_count": 18,
   "metadata": {},
   "outputs": [
    {
     "data": {
      "text/plain": [
       "(47292590, 8, 8, 3)"
      ]
     },
     "execution_count": 18,
     "metadata": {},
     "output_type": "execute_result"
    }
   ],
   "source": [
    "patches.shape"
   ]
  },
  {
   "cell_type": "code",
   "execution_count": null,
   "metadata": {},
   "outputs": [],
   "source": []
  }
 ],
 "metadata": {
  "kernelspec": {
   "display_name": "Python 3",
   "language": "python",
   "name": "python3"
  },
  "language_info": {
   "codemirror_mode": {
    "name": "ipython",
    "version": 3
   },
   "file_extension": ".py",
   "mimetype": "text/x-python",
   "name": "python",
   "nbconvert_exporter": "python",
   "pygments_lexer": "ipython3",
   "version": "3.5.4"
  }
 },
 "nbformat": 4,
 "nbformat_minor": 2
}
